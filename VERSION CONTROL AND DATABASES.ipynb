{
 "cells": [
  {
   "cell_type": "code",
   "execution_count": 5,
   "id": "a6b3b125-9132-48d5-b206-e7444fdc3d2f",
   "metadata": {},
   "outputs": [],
   "source": [
    "import mysql.connector\n",
    "from mysql.connector import Error\n",
    "import numpy as np"
   ]
  },
  {
   "cell_type": "code",
   "execution_count": 6,
   "id": "c5b5d189-ee5b-44a8-a214-faa089d14029",
   "metadata": {},
   "outputs": [],
   "source": [
    "# MySQL database connection configuration\n",
    "\n",
    "db_config = {\n",
    "    'host': 'localhost',\n",
    "    'user': 'root',\n",
    "    'password': 'Wayne001'\n",
    "\n",
    "}"
   ]
  },
  {
   "cell_type": "code",
   "execution_count": 7,
   "id": "2beb41b8-0aa2-49d2-8cb8-2b998d0e80cc",
   "metadata": {},
   "outputs": [],
   "source": [
    "# Establish connection to MySQL database\n",
    "\n",
    "conn = mysql.connector.connect(**db_config)"
   ]
  },
  {
   "cell_type": "code",
   "execution_count": 8,
   "id": "bb6ac4a1-9e8c-4771-a2aa-fa111792b763",
   "metadata": {},
   "outputs": [],
   "source": [
    "# Function to execute MySQL queries\n",
    "def execute_query(query):\n",
    "    cursor = conn.cursor()\n",
    "    cursor.execute(query)\n",
    "    conn.commit()\n",
    "    cursor.close()"
   ]
  },
  {
   "cell_type": "code",
   "execution_count": 12,
   "id": "cc0a3b83-b883-41d8-ae3a-6815975d1005",
   "metadata": {},
   "outputs": [],
   "source": [
    "# Create database named edu_institute if it doesn't exist\n",
    "\n",
    "create_db_query = \"CREATE DATABASE IF NOT EXISTS edu_institute;\"\n",
    "execute_query(create_db_query)\n"
   ]
  },
  {
   "cell_type": "code",
   "execution_count": 13,
   "id": "28744334-fb9d-49ab-a73b-77d17325757f",
   "metadata": {},
   "outputs": [],
   "source": [
    "#Use the database\n",
    "use_db_query = \"USE edu_institute;\"\n",
    "execute_query(use_db_query)"
   ]
  },
  {
   "cell_type": "code",
   "execution_count": 14,
   "id": "ab17a2fb-18f2-4192-b56c-649f66793cd8",
   "metadata": {},
   "outputs": [],
   "source": [
    "students = \"\"\"\n",
    "CREATE TABLE students (\n",
    "  student_id INT PRIMARY KEY,\n",
    "  name VARCHAR(50) NOT NULL,\n",
    "  age INT,\n",
    "  gender CHAR(1) CHECK (gender IN ('M', 'F', 'O')), \n",
    "  enrollment_date DATE,\n",
    "  program VARCHAR(255)  \n",
    "); \"\"\"\n",
    "\n",
    "execute_query(students)"
   ]
  },
  {
   "cell_type": "code",
   "execution_count": 15,
   "id": "c5667064-d2c1-45fc-a247-32380156202c",
   "metadata": {},
   "outputs": [],
   "source": [
    "\n",
    "insert_students_query = \"\"\"\n",
    "INSERT INTO students (student_id, name, age, gender, enrollment_date, program)\n",
    "VALUES\n",
    "  (13750, 'Travis Scott', 22, 'M', '2023-10-26', 'Computer Science'),\n",
    "  (13751, 'Doja Cat', 25, 'F', '2024-02-15', 'Business Administration'),\n",
    "  (13752, 'Li Tjay', 30, 'M', '2023-09-01', 'Data Science'),  \n",
    "  (13753, 'Rylo Rodriguez', 19, 'M', '2024-01-03', 'Marketing'),\n",
    "  (13754, 'Ice Spice', 20, 'F', '2023-11-12', 'Psychology');\n",
    "\"\"\"\n",
    "execute_query(insert_students_query)"
   ]
  },
  {
   "cell_type": "code",
   "execution_count": null,
   "id": "81c1f672-fd3c-4882-bc66-ead15645a37e",
   "metadata": {},
   "outputs": [],
   "source": [
    "\n"
   ]
  },
  {
   "cell_type": "code",
   "execution_count": null,
   "id": "8eabd39d-c86d-4fb4-b065-8b65b84fbe7a",
   "metadata": {},
   "outputs": [],
   "source": []
  }
 ],
 "metadata": {
  "kernelspec": {
   "display_name": "Python 3 (ipykernel)",
   "language": "python",
   "name": "python3"
  },
  "language_info": {
   "codemirror_mode": {
    "name": "ipython",
    "version": 3
   },
   "file_extension": ".py",
   "mimetype": "text/x-python",
   "name": "python",
   "nbconvert_exporter": "python",
   "pygments_lexer": "ipython3",
   "version": "3.11.5"
  }
 },
 "nbformat": 4,
 "nbformat_minor": 5
}
